{
 "cells": [
  {
   "cell_type": "code",
   "execution_count": 30,
   "metadata": {},
   "outputs": [],
   "source": [
    "import rsa\n",
    "import requests as r"
   ]
  },
  {
   "cell_type": "markdown",
   "metadata": {},
   "source": [
    "bob has a set of keys"
   ]
  },
  {
   "cell_type": "code",
   "execution_count": 31,
   "metadata": {},
   "outputs": [],
   "source": [
    "(bob_pub, bob_priv) = rsa.newkeys(512)"
   ]
  },
  {
   "cell_type": "code",
   "execution_count": 32,
   "metadata": {},
   "outputs": [
    {
     "output_type": "stream",
     "name": "stdout",
     "text": "PublicKey(8002785484210848775085432105827485824029293523180931063636319441126549998344542187099056227525916646580600754502232945474789420466117219397245460223207251, 65537)\n"
    }
   ],
   "source": [
    "print(bob_pub)"
   ]
  },
  {
   "cell_type": "code",
   "execution_count": 33,
   "metadata": {},
   "outputs": [
    {
     "output_type": "stream",
     "name": "stdout",
     "text": "PrivateKey(8002785484210848775085432105827485824029293523180931063636319441126549998344542187099056227525916646580600754502232945474789420466117219397245460223207251, 65537, 3811571266676189536681823668329327593744760486939737586711995895987367921176459111551947665568421175540939264365167829024860910977450717442209941411684161, 6349232363522354524099252044721057833187756153215583025226083255465935173960068419, 1260433549445834891427476010034281879373888604417672598229698415618634929)\n"
    }
   ],
   "source": [
    "print(bob_priv)"
   ]
  },
  {
   "cell_type": "markdown",
   "metadata": {},
   "source": [
    "Alice has a set of keys as well!"
   ]
  },
  {
   "cell_type": "code",
   "execution_count": 34,
   "metadata": {},
   "outputs": [],
   "source": [
    "(alice_pub, alice_priv) = rsa.newkeys(512)"
   ]
  },
  {
   "cell_type": "code",
   "execution_count": 35,
   "metadata": {},
   "outputs": [
    {
     "output_type": "stream",
     "name": "stdout",
     "text": "PublicKey(7808271758120995803548296984620924590378801245188678512209496135637766710449861205000670879245432343894686471716686278098721307347879373171755780550823477, 65537)\n"
    }
   ],
   "source": [
    "print(alice_pub)"
   ]
  },
  {
   "cell_type": "code",
   "execution_count": 36,
   "metadata": {},
   "outputs": [
    {
     "output_type": "stream",
     "name": "stdout",
     "text": "PrivateKey(7808271758120995803548296984620924590378801245188678512209496135637766710449861205000670879245432343894686471716686278098721307347879373171755780550823477, 65537, 672919402625499859597491209074858203556151020535356458747871189924502286344671237036691847831347718653204800312637515787487250985779821933768993585597953, 7161844408288301626692324481822135781494802710308749756315123873287673815584448937, 1090259898565318301630786703308051260395397902333206599375332224771733421)\n"
    }
   ],
   "source": [
    "print(alice_priv)"
   ]
  },
  {
   "cell_type": "markdown",
   "metadata": {},
   "source": [
    "Alice can send a secure message to bob by encrypting her message using **bob's** public key - only bob will be able to decrypt it!"
   ]
  },
  {
   "cell_type": "code",
   "execution_count": 58,
   "metadata": {},
   "outputs": [
    {
     "output_type": "execute_result",
     "data": {
      "text/plain": "b\"3i?\\x9e+\\xa7\\x80\\xa91\\x8e\\x82\\xdb\\xd7X\\xc0\\x00\\xff\\xec4\\xfb\\xd3\\xa2\\x01\\x86\\xed\\x80\\xf6\\xef\\x0f\\xf3\\xd1\\xad\\x93\\xab\\xc5`\\x8eh\\xef\\xfa<\\xa8\\x1f\\x93\\xd4\\xdb\\x90\\xff'P\\xf2\\x07\\xf5\\x95\\xd9\\xec;\\xfbv\\x97\\xf1{)N\""
     },
     "metadata": {},
     "execution_count": 58
    }
   ],
   "source": [
    "quote = \"no amount of violence will ever solve a math problem.\".encode(\"utf-8\")\n",
    "encrypted_message = rsa.encrypt(quote,bob_pub) #think of this as \"locking\" the message with the public key\n",
    "encrypted_message"
   ]
  },
  {
   "cell_type": "code",
   "execution_count": 59,
   "metadata": {},
   "outputs": [
    {
     "output_type": "execute_result",
     "data": {
      "text/plain": "b'-----BEGIN RSA PUBLIC KEY-----\\nMEgCQQCYzMz1K6HtGAykYwtTJW1AbAShjePZ9vIMXOMPsxSvspIKLqaSD9mn+9uW\\n39BwahscAvSz9pA2//WIKcoU6adTAgMBAAE=\\n-----END RSA PUBLIC KEY-----\\n'"
     },
     "metadata": {},
     "execution_count": 59
    }
   ],
   "source": [
    "bob_pub_pem = bob_pub._save_pkcs1_pem()\n",
    "bob_pub_pem"
   ]
  },
  {
   "cell_type": "code",
   "execution_count": 60,
   "metadata": {},
   "outputs": [
    {
     "output_type": "execute_result",
     "data": {
      "text/plain": "b'-----BEGIN RSA PUBLIC KEY-----\\nMEgCQQCVFgmOUyKzNPlUov4YBAMO5lmxph32Ud89cRbnvtSuXpcv6It4g3gQDXTB\\nnKN0DZt+C5OWo87rKqfhITju7g41AgMBAAE=\\n-----END RSA PUBLIC KEY-----\\n'"
     },
     "metadata": {},
     "execution_count": 60
    }
   ],
   "source": [
    "alice_pub_pem = alice_pub._save_pkcs1_pem()\n",
    "alice_pub_pem"
   ]
  },
  {
   "cell_type": "markdown",
   "metadata": {},
   "source": [
    "We can send this encrypted message over the blockchain less fear of identification or decryption by a third party. Only the two parties involved know who the sender and recipient are, and only bob has the private key to decrypt the message. In this case, the public key is being used both as an address and an encryption tool!"
   ]
  },
  {
   "cell_type": "code",
   "execution_count": 62,
   "metadata": {},
   "outputs": [],
   "source": [
    "payload = {\n",
    "    \"from\": alice_pub_pem,\n",
    "    \"to\": bob_pub_pem,\n",
    "    \"msg\":encrypted_message\n",
    "}\n",
    "\n",
    "res = r.post(\"http://localhost:5000/new\",data=payload)"
   ]
  },
  {
   "cell_type": "code",
   "execution_count": 63,
   "metadata": {},
   "outputs": [
    {
     "output_type": "execute_result",
     "data": {
      "text/plain": "'-----BEGIN RSA PUBLIC KEY-----\\nMEgCQQCVFgmOUyKzNPlUov4YBAMO5lmxph32Ud89cRbnvtSuXpcv6It4g3gQDXTB\\nnKN0DZt+C5OWo87rKqfhITju7g41AgMBAAE=\\n-----END RSA PUBLIC KEY-----\\n'"
     },
     "metadata": {},
     "execution_count": 63
    }
   ],
   "source": [
    "from pprint import pprint\n",
    "res.json()[\"received\"][\"from\"]"
   ]
  },
  {
   "cell_type": "code",
   "execution_count": 64,
   "metadata": {},
   "outputs": [
    {
     "output_type": "execute_result",
     "data": {
      "text/plain": "b'no amount of violence will ever solve a math problem.'"
     },
     "metadata": {},
     "execution_count": 64
    }
   ],
   "source": [
    "rsa.decrypt(encrypted_message,bob_priv)"
   ]
  },
  {
   "cell_type": "markdown",
   "metadata": {},
   "source": [
    "When you need to take someone's public key and load it into RSA so you can use it for encryption:"
   ]
  },
  {
   "cell_type": "code",
   "execution_count": 65,
   "metadata": {},
   "outputs": [
    {
     "output_type": "execute_result",
     "data": {
      "text/plain": "PublicKey(7808271758120995803548296984620924590378801245188678512209496135637766710449861205000670879245432343894686471716686278098721307347879373171755780550823477, 65537)"
     },
     "metadata": {},
     "execution_count": 65
    }
   ],
   "source": [
    "rsa.PublicKey.load_pkcs1(bytes(\"-----BEGIN RSA PUBLIC KEY-----\\nMEgCQQCVFgmOUyKzNPlUov4YBAMO5lmxph32Ud89cRbnvtSuXpcv6It4g3gQDXTB\\nnKN0DZt+C5OWo87rKqfhITju7g41AgMBAAE=\\n-----END RSA PUBLIC KEY-----\\n\", \"utf-8\"))"
   ]
  },
  {
   "cell_type": "code",
   "execution_count": null,
   "metadata": {},
   "outputs": [],
   "source": []
  }
 ],
 "metadata": {
  "language_info": {
   "codemirror_mode": {
    "name": "ipython",
    "version": 3
   },
   "file_extension": ".py",
   "mimetype": "text/x-python",
   "name": "python",
   "nbconvert_exporter": "python",
   "pygments_lexer": "ipython3",
   "version": "3.7.4-final"
  },
  "orig_nbformat": 2,
  "kernelspec": {
   "name": "python3",
   "display_name": "Python 3"
  }
 },
 "nbformat": 4,
 "nbformat_minor": 2
}